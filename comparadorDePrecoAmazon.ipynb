{
 "cells": [
  {
   "cell_type": "code",
   "execution_count": 31,
   "metadata": {},
   "outputs": [],
   "source": [
    "#  importando bibliotecas \n",
    "import pandas as pd\n",
    "from selenium import webdriver\n",
    "from selenium.webdriver.chrome.service import Service\n",
    "from webdriver_manager.chrome import ChromeDriverManager\n",
    "from selenium.webdriver.common.keys import Keys\n",
    "from selenium.webdriver.common.by import By\n",
    "import time"
   ]
  },
  {
   "cell_type": "code",
   "execution_count": 32,
   "metadata": {},
   "outputs": [],
   "source": [
    "# inportando dados\n",
    "#  sera substituido pela planilia\n",
    "data ='TECLADO MECANICO HYPERX ALLOY ORIGINS'"
   ]
  },
  {
   "cell_type": "code",
   "execution_count": 72,
   "metadata": {},
   "outputs": [],
   "source": [
    "# iniciando navegador\n",
    "service = Service(ChromeDriverManager().install())\n",
    "nav = webdriver.Chrome(service=service)\n",
    "time.sleep(2)\n",
    "nav.get(\"https://www.amazon.com.br/\")\n"
   ]
  },
  {
   "cell_type": "code",
   "execution_count": 79,
   "metadata": {},
   "outputs": [
    {
     "data": {
      "text/html": [
       "<div>\n",
       "<style scoped>\n",
       "    .dataframe tbody tr th:only-of-type {\n",
       "        vertical-align: middle;\n",
       "    }\n",
       "\n",
       "    .dataframe tbody tr th {\n",
       "        vertical-align: top;\n",
       "    }\n",
       "\n",
       "    .dataframe thead th {\n",
       "        text-align: right;\n",
       "    }\n",
       "</style>\n",
       "<table border=\"1\" class=\"dataframe\">\n",
       "  <thead>\n",
       "    <tr style=\"text-align: right;\">\n",
       "      <th></th>\n",
       "      <th>nome</th>\n",
       "      <th>Preco</th>\n",
       "      <th>preco_original</th>\n",
       "      <th>Link</th>\n",
       "    </tr>\n",
       "  </thead>\n",
       "  <tbody>\n",
       "    <tr>\n",
       "      <th>0</th>\n",
       "      <td>Hyper X, TECLADO MECANICO HYPERX ALLOY ORIGINS...</td>\n",
       "      <td>519.98</td>\n",
       "      <td>577.77</td>\n",
       "      <td>https://www.amazon.com.br/Hyper-TECLADO-MECANI...</td>\n",
       "    </tr>\n",
       "    <tr>\n",
       "      <th>1</th>\n",
       "      <td>TECLADO MECANICO HYPERX ALLOY ORIGINS HX-KB6BL...</td>\n",
       "      <td>775.90</td>\n",
       "      <td>775.90</td>\n",
       "      <td>https://www.amazon.com.br/TECLADO-MECANICO-HYP...</td>\n",
       "    </tr>\n",
       "  </tbody>\n",
       "</table>\n",
       "</div>"
      ],
      "text/plain": [
       "                                                nome   Preco preco_original  \\\n",
       "0  Hyper X, TECLADO MECANICO HYPERX ALLOY ORIGINS...  519.98         577.77   \n",
       "1  TECLADO MECANICO HYPERX ALLOY ORIGINS HX-KB6BL...  775.90         775.90   \n",
       "\n",
       "                                                Link  \n",
       "0  https://www.amazon.com.br/Hyper-TECLADO-MECANI...  \n",
       "1  https://www.amazon.com.br/TECLADO-MECANICO-HYP...  "
      ]
     },
     "metadata": {},
     "output_type": "display_data"
    }
   ],
   "source": [
    "# buscando produto\n",
    "nav.find_element('xpath', '//*[@id=\"twotabsearchtextbox\"]').send_keys(data)\n",
    "nav.find_element('xpath', '//*[@id=\"nav-search-submit-button\"]').click()\n",
    "containers=nav.find_elements('class name','puis-padding-right-small')\n",
    "\n",
    "# criando lista para armazenar dados e colocar no dataframe\n",
    "dados = []\n",
    "\n",
    "for container in containers:\n",
    "    \n",
    "    nome_container=container.find_element('class name','s-title-instructions-style')\n",
    "\n",
    "    nome_container = nome_container.text.replace(\"\\n\", \"\")\n",
    "    data.replace(\"\\n\", \"\")\n",
    "    # comparando produtos com os produtos da busca\n",
    "    if data in nome_container and not 'Patrocinado' in nome_container:\n",
    "\n",
    "        real = container.find_element('class name','a-price-whole')\n",
    "        centavos = container.find_element('class name', 'a-price-fraction')\n",
    "        preco = (f'{real.text}.{centavos.text}')\n",
    "        preco_original = container.find_element('class name', 'a-text-price')\n",
    "        preco_original = preco_original.text.replace(\",\", \".\")\n",
    "        preco_original =  preco_original.replace('R$', '')\n",
    "        if preco > preco_original:\n",
    "            preco_original=preco\n",
    "        link = container.find_element('link text', nome_container)\n",
    "        link = link.get_attribute(\"href\")\n",
    "        dados.append({\"nome\":nome_container,\"Preco\": preco,\"preco_original\":preco_original, \"Link\": link})\n",
    "# salvando dados no dataframe\n",
    "df = pd.DataFrame(dados)\n",
    "display(df)\n",
    "       \n"
   ]
  },
  {
   "attachments": {},
   "cell_type": "markdown",
   "metadata": {},
   "source": [
    "!pip install pandas\n",
    "!pip install openpyxl --upgrade\n",
    "!pip install selenium pyperclip webdrive-manage"
   ]
  }
 ],
 "metadata": {
  "kernelspec": {
   "display_name": "Python 3",
   "language": "python",
   "name": "python3"
  },
  "language_info": {
   "codemirror_mode": {
    "name": "ipython",
    "version": 3
   },
   "file_extension": ".py",
   "mimetype": "text/x-python",
   "name": "python",
   "nbconvert_exporter": "python",
   "pygments_lexer": "ipython3",
   "version": "3.10.11"
  },
  "orig_nbformat": 4,
  "vscode": {
   "interpreter": {
    "hash": "e2f3fb39945d6d71985272766363874297102d65fc1a2bcb9468e79dce172f0c"
   }
  }
 },
 "nbformat": 4,
 "nbformat_minor": 2
}
